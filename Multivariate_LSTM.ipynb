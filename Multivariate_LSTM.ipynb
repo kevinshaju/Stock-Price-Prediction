{
  "nbformat": 4,
  "nbformat_minor": 0,
  "metadata": {
    "colab": {
      "name": "Multivariate_LSTM.ipynb",
      "provenance": [],
      "collapsed_sections": []
    },
    "kernelspec": {
      "name": "python3",
      "display_name": "Python 3"
    },
    "accelerator": "GPU"
  },
  "cells": [
    {
      "cell_type": "markdown",
      "metadata": {
        "id": "4u8R53qxIwvJ"
      },
      "source": [
        "# Stock Price Prediction using Multiivariate LSTM"
      ]
    },
    {
      "cell_type": "markdown",
      "metadata": {
        "id": "iVTNFFkeI8xR"
      },
      "source": [
        "This notebook showcases how to predict the closing price of a stock using a multiple features. The model used is **Bidirectional LSTM** which is a type of RNN. The data used is downloaded from the NSE website for the NIFTY-50 companies. The model looks back at 100 days of previous data and gives a prediction for the next day.\n",
        "\n"
      ]
    },
    {
      "cell_type": "code",
      "metadata": {
        "colab": {
          "base_uri": "https://localhost:8080/"
        },
        "id": "OkmG5Mf-NCzI",
        "outputId": "c9dbc25c-3c3d-4b89-a89b-0434e3657949"
      },
      "source": [
        "from google.colab import drive\n",
        "drive.mount('/content/drive')"
      ],
      "execution_count": null,
      "outputs": [
        {
          "output_type": "stream",
          "text": [
            "Drive already mounted at /content/drive; to attempt to forcibly remount, call drive.mount(\"/content/drive\", force_remount=True).\n"
          ],
          "name": "stdout"
        }
      ]
    },
    {
      "cell_type": "code",
      "metadata": {
        "id": "u5XjcG8fMHe8"
      },
      "source": [
        "import numpy as np\r\n",
        "from keras.models import Sequential\r\n",
        "from keras.layers import LSTM\r\n",
        "from keras.layers import Dense, Dropout, RepeatVector\r\n",
        "import pandas as pd\r\n",
        "from matplotlib import pyplot as plt\r\n",
        "from sklearn.preprocessing import StandardScaler, MinMaxScaler\r\n",
        "import seaborn as sns\r\n",
        "#from datetime import datetime"
      ],
      "execution_count": null,
      "outputs": []
    },
    {
      "cell_type": "code",
      "metadata": {
        "colab": {
          "base_uri": "https://localhost:8080/",
          "height": 407
        },
        "id": "e5oaQ3PRNDgp",
        "outputId": "71eb7767-02be-4d50-e5ea-7a74901524e0"
      },
      "source": [
        "df = pd.read_csv(\"/content/^NSEI (2).csv\")\r\n",
        "df\r\n"
      ],
      "execution_count": null,
      "outputs": [
        {
          "output_type": "execute_result",
          "data": {
            "text/html": [
              "<div>\n",
              "<style scoped>\n",
              "    .dataframe tbody tr th:only-of-type {\n",
              "        vertical-align: middle;\n",
              "    }\n",
              "\n",
              "    .dataframe tbody tr th {\n",
              "        vertical-align: top;\n",
              "    }\n",
              "\n",
              "    .dataframe thead th {\n",
              "        text-align: right;\n",
              "    }\n",
              "</style>\n",
              "<table border=\"1\" class=\"dataframe\">\n",
              "  <thead>\n",
              "    <tr style=\"text-align: right;\">\n",
              "      <th></th>\n",
              "      <th>Date</th>\n",
              "      <th>Open</th>\n",
              "      <th>High</th>\n",
              "      <th>Low</th>\n",
              "      <th>Close</th>\n",
              "      <th>Adj Close</th>\n",
              "      <th>Volume</th>\n",
              "    </tr>\n",
              "  </thead>\n",
              "  <tbody>\n",
              "    <tr>\n",
              "      <th>0</th>\n",
              "      <td>21-01-2013</td>\n",
              "      <td>6085.750000</td>\n",
              "      <td>6094.350098</td>\n",
              "      <td>6065.100098</td>\n",
              "      <td>6082.299805</td>\n",
              "      <td>6082.299805</td>\n",
              "      <td>130900.0</td>\n",
              "    </tr>\n",
              "    <tr>\n",
              "      <th>1</th>\n",
              "      <td>22-01-2013</td>\n",
              "      <td>6080.149902</td>\n",
              "      <td>6101.299805</td>\n",
              "      <td>6040.500000</td>\n",
              "      <td>6048.500000</td>\n",
              "      <td>6048.500000</td>\n",
              "      <td>129000.0</td>\n",
              "    </tr>\n",
              "    <tr>\n",
              "      <th>2</th>\n",
              "      <td>23-01-2013</td>\n",
              "      <td>6052.850098</td>\n",
              "      <td>6069.799805</td>\n",
              "      <td>6021.149902</td>\n",
              "      <td>6054.299805</td>\n",
              "      <td>6054.299805</td>\n",
              "      <td>137000.0</td>\n",
              "    </tr>\n",
              "    <tr>\n",
              "      <th>3</th>\n",
              "      <td>24-01-2013</td>\n",
              "      <td>6046.200195</td>\n",
              "      <td>6065.299805</td>\n",
              "      <td>6007.850098</td>\n",
              "      <td>6019.350098</td>\n",
              "      <td>6019.350098</td>\n",
              "      <td>185200.0</td>\n",
              "    </tr>\n",
              "    <tr>\n",
              "      <th>4</th>\n",
              "      <td>25-01-2013</td>\n",
              "      <td>6024.500000</td>\n",
              "      <td>6080.549805</td>\n",
              "      <td>6014.450195</td>\n",
              "      <td>6074.649902</td>\n",
              "      <td>6074.649902</td>\n",
              "      <td>147600.0</td>\n",
              "    </tr>\n",
              "    <tr>\n",
              "      <th>...</th>\n",
              "      <td>...</td>\n",
              "      <td>...</td>\n",
              "      <td>...</td>\n",
              "      <td>...</td>\n",
              "      <td>...</td>\n",
              "      <td>...</td>\n",
              "      <td>...</td>\n",
              "    </tr>\n",
              "    <tr>\n",
              "      <th>1978</th>\n",
              "      <td>28-01-2021</td>\n",
              "      <td>13810.400390</td>\n",
              "      <td>13898.250000</td>\n",
              "      <td>13713.250000</td>\n",
              "      <td>13817.549810</td>\n",
              "      <td>13817.549810</td>\n",
              "      <td>637900.0</td>\n",
              "    </tr>\n",
              "    <tr>\n",
              "      <th>1979</th>\n",
              "      <td>29-01-2021</td>\n",
              "      <td>13946.599610</td>\n",
              "      <td>13966.849610</td>\n",
              "      <td>13596.750000</td>\n",
              "      <td>13634.599610</td>\n",
              "      <td>13634.599610</td>\n",
              "      <td>753200.0</td>\n",
              "    </tr>\n",
              "    <tr>\n",
              "      <th>1980</th>\n",
              "      <td>01-02-2021</td>\n",
              "      <td>13758.599610</td>\n",
              "      <td>14336.349610</td>\n",
              "      <td>13661.750000</td>\n",
              "      <td>14281.200200</td>\n",
              "      <td>14281.200200</td>\n",
              "      <td>870500.0</td>\n",
              "    </tr>\n",
              "    <tr>\n",
              "      <th>1981</th>\n",
              "      <td>02-02-2021</td>\n",
              "      <td>14481.099610</td>\n",
              "      <td>14731.700200</td>\n",
              "      <td>14469.150390</td>\n",
              "      <td>14647.849610</td>\n",
              "      <td>14647.849610</td>\n",
              "      <td>915000.0</td>\n",
              "    </tr>\n",
              "    <tr>\n",
              "      <th>1982</th>\n",
              "      <td>03-02-2021</td>\n",
              "      <td>14754.900390</td>\n",
              "      <td>14868.849610</td>\n",
              "      <td>14574.150390</td>\n",
              "      <td>14789.950200</td>\n",
              "      <td>14789.950200</td>\n",
              "      <td>869500.0</td>\n",
              "    </tr>\n",
              "  </tbody>\n",
              "</table>\n",
              "<p>1983 rows × 7 columns</p>\n",
              "</div>"
            ],
            "text/plain": [
              "            Date          Open  ...     Adj Close    Volume\n",
              "0     21-01-2013   6085.750000  ...   6082.299805  130900.0\n",
              "1     22-01-2013   6080.149902  ...   6048.500000  129000.0\n",
              "2     23-01-2013   6052.850098  ...   6054.299805  137000.0\n",
              "3     24-01-2013   6046.200195  ...   6019.350098  185200.0\n",
              "4     25-01-2013   6024.500000  ...   6074.649902  147600.0\n",
              "...          ...           ...  ...           ...       ...\n",
              "1978  28-01-2021  13810.400390  ...  13817.549810  637900.0\n",
              "1979  29-01-2021  13946.599610  ...  13634.599610  753200.0\n",
              "1980  01-02-2021  13758.599610  ...  14281.200200  870500.0\n",
              "1981  02-02-2021  14481.099610  ...  14647.849610  915000.0\n",
              "1982  03-02-2021  14754.900390  ...  14789.950200  869500.0\n",
              "\n",
              "[1983 rows x 7 columns]"
            ]
          },
          "metadata": {
            "tags": []
          },
          "execution_count": 8
        }
      ]
    },
    {
      "cell_type": "code",
      "metadata": {
        "colab": {
          "base_uri": "https://localhost:8080/",
          "height": 407
        },
        "id": "6J6iaflTzMxN",
        "outputId": "29703a97-689f-4fab-b285-fc81833e5134"
      },
      "source": [
        "#df = df.reindex(index=df.index[::-1])\r\n",
        "df"
      ],
      "execution_count": null,
      "outputs": [
        {
          "output_type": "execute_result",
          "data": {
            "text/html": [
              "<div>\n",
              "<style scoped>\n",
              "    .dataframe tbody tr th:only-of-type {\n",
              "        vertical-align: middle;\n",
              "    }\n",
              "\n",
              "    .dataframe tbody tr th {\n",
              "        vertical-align: top;\n",
              "    }\n",
              "\n",
              "    .dataframe thead th {\n",
              "        text-align: right;\n",
              "    }\n",
              "</style>\n",
              "<table border=\"1\" class=\"dataframe\">\n",
              "  <thead>\n",
              "    <tr style=\"text-align: right;\">\n",
              "      <th></th>\n",
              "      <th>Date</th>\n",
              "      <th>Open</th>\n",
              "      <th>High</th>\n",
              "      <th>Low</th>\n",
              "      <th>Close</th>\n",
              "      <th>Adj Close</th>\n",
              "      <th>Volume</th>\n",
              "    </tr>\n",
              "  </thead>\n",
              "  <tbody>\n",
              "    <tr>\n",
              "      <th>0</th>\n",
              "      <td>21-01-2013</td>\n",
              "      <td>6085.750000</td>\n",
              "      <td>6094.350098</td>\n",
              "      <td>6065.100098</td>\n",
              "      <td>6082.299805</td>\n",
              "      <td>6082.299805</td>\n",
              "      <td>130900.0</td>\n",
              "    </tr>\n",
              "    <tr>\n",
              "      <th>1</th>\n",
              "      <td>22-01-2013</td>\n",
              "      <td>6080.149902</td>\n",
              "      <td>6101.299805</td>\n",
              "      <td>6040.500000</td>\n",
              "      <td>6048.500000</td>\n",
              "      <td>6048.500000</td>\n",
              "      <td>129000.0</td>\n",
              "    </tr>\n",
              "    <tr>\n",
              "      <th>2</th>\n",
              "      <td>23-01-2013</td>\n",
              "      <td>6052.850098</td>\n",
              "      <td>6069.799805</td>\n",
              "      <td>6021.149902</td>\n",
              "      <td>6054.299805</td>\n",
              "      <td>6054.299805</td>\n",
              "      <td>137000.0</td>\n",
              "    </tr>\n",
              "    <tr>\n",
              "      <th>3</th>\n",
              "      <td>24-01-2013</td>\n",
              "      <td>6046.200195</td>\n",
              "      <td>6065.299805</td>\n",
              "      <td>6007.850098</td>\n",
              "      <td>6019.350098</td>\n",
              "      <td>6019.350098</td>\n",
              "      <td>185200.0</td>\n",
              "    </tr>\n",
              "    <tr>\n",
              "      <th>4</th>\n",
              "      <td>25-01-2013</td>\n",
              "      <td>6024.500000</td>\n",
              "      <td>6080.549805</td>\n",
              "      <td>6014.450195</td>\n",
              "      <td>6074.649902</td>\n",
              "      <td>6074.649902</td>\n",
              "      <td>147600.0</td>\n",
              "    </tr>\n",
              "    <tr>\n",
              "      <th>...</th>\n",
              "      <td>...</td>\n",
              "      <td>...</td>\n",
              "      <td>...</td>\n",
              "      <td>...</td>\n",
              "      <td>...</td>\n",
              "      <td>...</td>\n",
              "      <td>...</td>\n",
              "    </tr>\n",
              "    <tr>\n",
              "      <th>1978</th>\n",
              "      <td>28-01-2021</td>\n",
              "      <td>13810.400390</td>\n",
              "      <td>13898.250000</td>\n",
              "      <td>13713.250000</td>\n",
              "      <td>13817.549810</td>\n",
              "      <td>13817.549810</td>\n",
              "      <td>637900.0</td>\n",
              "    </tr>\n",
              "    <tr>\n",
              "      <th>1979</th>\n",
              "      <td>29-01-2021</td>\n",
              "      <td>13946.599610</td>\n",
              "      <td>13966.849610</td>\n",
              "      <td>13596.750000</td>\n",
              "      <td>13634.599610</td>\n",
              "      <td>13634.599610</td>\n",
              "      <td>753200.0</td>\n",
              "    </tr>\n",
              "    <tr>\n",
              "      <th>1980</th>\n",
              "      <td>01-02-2021</td>\n",
              "      <td>13758.599610</td>\n",
              "      <td>14336.349610</td>\n",
              "      <td>13661.750000</td>\n",
              "      <td>14281.200200</td>\n",
              "      <td>14281.200200</td>\n",
              "      <td>870500.0</td>\n",
              "    </tr>\n",
              "    <tr>\n",
              "      <th>1981</th>\n",
              "      <td>02-02-2021</td>\n",
              "      <td>14481.099610</td>\n",
              "      <td>14731.700200</td>\n",
              "      <td>14469.150390</td>\n",
              "      <td>14647.849610</td>\n",
              "      <td>14647.849610</td>\n",
              "      <td>915000.0</td>\n",
              "    </tr>\n",
              "    <tr>\n",
              "      <th>1982</th>\n",
              "      <td>03-02-2021</td>\n",
              "      <td>14754.900390</td>\n",
              "      <td>14868.849610</td>\n",
              "      <td>14574.150390</td>\n",
              "      <td>14789.950200</td>\n",
              "      <td>14789.950200</td>\n",
              "      <td>869500.0</td>\n",
              "    </tr>\n",
              "  </tbody>\n",
              "</table>\n",
              "<p>1983 rows × 7 columns</p>\n",
              "</div>"
            ],
            "text/plain": [
              "            Date          Open  ...     Adj Close    Volume\n",
              "0     21-01-2013   6085.750000  ...   6082.299805  130900.0\n",
              "1     22-01-2013   6080.149902  ...   6048.500000  129000.0\n",
              "2     23-01-2013   6052.850098  ...   6054.299805  137000.0\n",
              "3     24-01-2013   6046.200195  ...   6019.350098  185200.0\n",
              "4     25-01-2013   6024.500000  ...   6074.649902  147600.0\n",
              "...          ...           ...  ...           ...       ...\n",
              "1978  28-01-2021  13810.400390  ...  13817.549810  637900.0\n",
              "1979  29-01-2021  13946.599610  ...  13634.599610  753200.0\n",
              "1980  01-02-2021  13758.599610  ...  14281.200200  870500.0\n",
              "1981  02-02-2021  14481.099610  ...  14647.849610  915000.0\n",
              "1982  03-02-2021  14754.900390  ...  14789.950200  869500.0\n",
              "\n",
              "[1983 rows x 7 columns]"
            ]
          },
          "metadata": {
            "tags": []
          },
          "execution_count": 9
        }
      ]
    },
    {
      "cell_type": "code",
      "metadata": {
        "colab": {
          "base_uri": "https://localhost:8080/",
          "height": 407
        },
        "id": "fxmWSoYGNYwk",
        "outputId": "a9716a41-a804-43ae-816f-989475c183b7"
      },
      "source": [
        "train_dates=pd.to_datetime(df['Date'])\r\n",
        "df=df.drop([\"Adj Close\"],axis=1)\r\n",
        "df"
      ],
      "execution_count": null,
      "outputs": [
        {
          "output_type": "execute_result",
          "data": {
            "text/html": [
              "<div>\n",
              "<style scoped>\n",
              "    .dataframe tbody tr th:only-of-type {\n",
              "        vertical-align: middle;\n",
              "    }\n",
              "\n",
              "    .dataframe tbody tr th {\n",
              "        vertical-align: top;\n",
              "    }\n",
              "\n",
              "    .dataframe thead th {\n",
              "        text-align: right;\n",
              "    }\n",
              "</style>\n",
              "<table border=\"1\" class=\"dataframe\">\n",
              "  <thead>\n",
              "    <tr style=\"text-align: right;\">\n",
              "      <th></th>\n",
              "      <th>Date</th>\n",
              "      <th>Open</th>\n",
              "      <th>High</th>\n",
              "      <th>Low</th>\n",
              "      <th>Close</th>\n",
              "      <th>Volume</th>\n",
              "    </tr>\n",
              "  </thead>\n",
              "  <tbody>\n",
              "    <tr>\n",
              "      <th>0</th>\n",
              "      <td>21-01-2013</td>\n",
              "      <td>6085.750000</td>\n",
              "      <td>6094.350098</td>\n",
              "      <td>6065.100098</td>\n",
              "      <td>6082.299805</td>\n",
              "      <td>130900.0</td>\n",
              "    </tr>\n",
              "    <tr>\n",
              "      <th>1</th>\n",
              "      <td>22-01-2013</td>\n",
              "      <td>6080.149902</td>\n",
              "      <td>6101.299805</td>\n",
              "      <td>6040.500000</td>\n",
              "      <td>6048.500000</td>\n",
              "      <td>129000.0</td>\n",
              "    </tr>\n",
              "    <tr>\n",
              "      <th>2</th>\n",
              "      <td>23-01-2013</td>\n",
              "      <td>6052.850098</td>\n",
              "      <td>6069.799805</td>\n",
              "      <td>6021.149902</td>\n",
              "      <td>6054.299805</td>\n",
              "      <td>137000.0</td>\n",
              "    </tr>\n",
              "    <tr>\n",
              "      <th>3</th>\n",
              "      <td>24-01-2013</td>\n",
              "      <td>6046.200195</td>\n",
              "      <td>6065.299805</td>\n",
              "      <td>6007.850098</td>\n",
              "      <td>6019.350098</td>\n",
              "      <td>185200.0</td>\n",
              "    </tr>\n",
              "    <tr>\n",
              "      <th>4</th>\n",
              "      <td>25-01-2013</td>\n",
              "      <td>6024.500000</td>\n",
              "      <td>6080.549805</td>\n",
              "      <td>6014.450195</td>\n",
              "      <td>6074.649902</td>\n",
              "      <td>147600.0</td>\n",
              "    </tr>\n",
              "    <tr>\n",
              "      <th>...</th>\n",
              "      <td>...</td>\n",
              "      <td>...</td>\n",
              "      <td>...</td>\n",
              "      <td>...</td>\n",
              "      <td>...</td>\n",
              "      <td>...</td>\n",
              "    </tr>\n",
              "    <tr>\n",
              "      <th>1978</th>\n",
              "      <td>28-01-2021</td>\n",
              "      <td>13810.400390</td>\n",
              "      <td>13898.250000</td>\n",
              "      <td>13713.250000</td>\n",
              "      <td>13817.549810</td>\n",
              "      <td>637900.0</td>\n",
              "    </tr>\n",
              "    <tr>\n",
              "      <th>1979</th>\n",
              "      <td>29-01-2021</td>\n",
              "      <td>13946.599610</td>\n",
              "      <td>13966.849610</td>\n",
              "      <td>13596.750000</td>\n",
              "      <td>13634.599610</td>\n",
              "      <td>753200.0</td>\n",
              "    </tr>\n",
              "    <tr>\n",
              "      <th>1980</th>\n",
              "      <td>01-02-2021</td>\n",
              "      <td>13758.599610</td>\n",
              "      <td>14336.349610</td>\n",
              "      <td>13661.750000</td>\n",
              "      <td>14281.200200</td>\n",
              "      <td>870500.0</td>\n",
              "    </tr>\n",
              "    <tr>\n",
              "      <th>1981</th>\n",
              "      <td>02-02-2021</td>\n",
              "      <td>14481.099610</td>\n",
              "      <td>14731.700200</td>\n",
              "      <td>14469.150390</td>\n",
              "      <td>14647.849610</td>\n",
              "      <td>915000.0</td>\n",
              "    </tr>\n",
              "    <tr>\n",
              "      <th>1982</th>\n",
              "      <td>03-02-2021</td>\n",
              "      <td>14754.900390</td>\n",
              "      <td>14868.849610</td>\n",
              "      <td>14574.150390</td>\n",
              "      <td>14789.950200</td>\n",
              "      <td>869500.0</td>\n",
              "    </tr>\n",
              "  </tbody>\n",
              "</table>\n",
              "<p>1983 rows × 6 columns</p>\n",
              "</div>"
            ],
            "text/plain": [
              "            Date          Open  ...         Close    Volume\n",
              "0     21-01-2013   6085.750000  ...   6082.299805  130900.0\n",
              "1     22-01-2013   6080.149902  ...   6048.500000  129000.0\n",
              "2     23-01-2013   6052.850098  ...   6054.299805  137000.0\n",
              "3     24-01-2013   6046.200195  ...   6019.350098  185200.0\n",
              "4     25-01-2013   6024.500000  ...   6074.649902  147600.0\n",
              "...          ...           ...  ...           ...       ...\n",
              "1978  28-01-2021  13810.400390  ...  13817.549810  637900.0\n",
              "1979  29-01-2021  13946.599610  ...  13634.599610  753200.0\n",
              "1980  01-02-2021  13758.599610  ...  14281.200200  870500.0\n",
              "1981  02-02-2021  14481.099610  ...  14647.849610  915000.0\n",
              "1982  03-02-2021  14754.900390  ...  14789.950200  869500.0\n",
              "\n",
              "[1983 rows x 6 columns]"
            ]
          },
          "metadata": {
            "tags": []
          },
          "execution_count": 10
        }
      ]
    },
    {
      "cell_type": "code",
      "metadata": {
        "colab": {
          "base_uri": "https://localhost:8080/",
          "height": 407
        },
        "id": "2zSO-CA-gXKT",
        "outputId": "943f0e55-85f6-4d04-9d6f-580b43691d58"
      },
      "source": [
        "df['close'] = df['Close']\n",
        "df = df.drop('Close', axis=1)\n",
        "df"
      ],
      "execution_count": null,
      "outputs": [
        {
          "output_type": "execute_result",
          "data": {
            "text/html": [
              "<div>\n",
              "<style scoped>\n",
              "    .dataframe tbody tr th:only-of-type {\n",
              "        vertical-align: middle;\n",
              "    }\n",
              "\n",
              "    .dataframe tbody tr th {\n",
              "        vertical-align: top;\n",
              "    }\n",
              "\n",
              "    .dataframe thead th {\n",
              "        text-align: right;\n",
              "    }\n",
              "</style>\n",
              "<table border=\"1\" class=\"dataframe\">\n",
              "  <thead>\n",
              "    <tr style=\"text-align: right;\">\n",
              "      <th></th>\n",
              "      <th>Date</th>\n",
              "      <th>Open</th>\n",
              "      <th>High</th>\n",
              "      <th>Low</th>\n",
              "      <th>Volume</th>\n",
              "      <th>close</th>\n",
              "    </tr>\n",
              "  </thead>\n",
              "  <tbody>\n",
              "    <tr>\n",
              "      <th>0</th>\n",
              "      <td>21-01-2013</td>\n",
              "      <td>6085.750000</td>\n",
              "      <td>6094.350098</td>\n",
              "      <td>6065.100098</td>\n",
              "      <td>130900.0</td>\n",
              "      <td>6082.299805</td>\n",
              "    </tr>\n",
              "    <tr>\n",
              "      <th>1</th>\n",
              "      <td>22-01-2013</td>\n",
              "      <td>6080.149902</td>\n",
              "      <td>6101.299805</td>\n",
              "      <td>6040.500000</td>\n",
              "      <td>129000.0</td>\n",
              "      <td>6048.500000</td>\n",
              "    </tr>\n",
              "    <tr>\n",
              "      <th>2</th>\n",
              "      <td>23-01-2013</td>\n",
              "      <td>6052.850098</td>\n",
              "      <td>6069.799805</td>\n",
              "      <td>6021.149902</td>\n",
              "      <td>137000.0</td>\n",
              "      <td>6054.299805</td>\n",
              "    </tr>\n",
              "    <tr>\n",
              "      <th>3</th>\n",
              "      <td>24-01-2013</td>\n",
              "      <td>6046.200195</td>\n",
              "      <td>6065.299805</td>\n",
              "      <td>6007.850098</td>\n",
              "      <td>185200.0</td>\n",
              "      <td>6019.350098</td>\n",
              "    </tr>\n",
              "    <tr>\n",
              "      <th>4</th>\n",
              "      <td>25-01-2013</td>\n",
              "      <td>6024.500000</td>\n",
              "      <td>6080.549805</td>\n",
              "      <td>6014.450195</td>\n",
              "      <td>147600.0</td>\n",
              "      <td>6074.649902</td>\n",
              "    </tr>\n",
              "    <tr>\n",
              "      <th>...</th>\n",
              "      <td>...</td>\n",
              "      <td>...</td>\n",
              "      <td>...</td>\n",
              "      <td>...</td>\n",
              "      <td>...</td>\n",
              "      <td>...</td>\n",
              "    </tr>\n",
              "    <tr>\n",
              "      <th>1978</th>\n",
              "      <td>28-01-2021</td>\n",
              "      <td>13810.400390</td>\n",
              "      <td>13898.250000</td>\n",
              "      <td>13713.250000</td>\n",
              "      <td>637900.0</td>\n",
              "      <td>13817.549810</td>\n",
              "    </tr>\n",
              "    <tr>\n",
              "      <th>1979</th>\n",
              "      <td>29-01-2021</td>\n",
              "      <td>13946.599610</td>\n",
              "      <td>13966.849610</td>\n",
              "      <td>13596.750000</td>\n",
              "      <td>753200.0</td>\n",
              "      <td>13634.599610</td>\n",
              "    </tr>\n",
              "    <tr>\n",
              "      <th>1980</th>\n",
              "      <td>01-02-2021</td>\n",
              "      <td>13758.599610</td>\n",
              "      <td>14336.349610</td>\n",
              "      <td>13661.750000</td>\n",
              "      <td>870500.0</td>\n",
              "      <td>14281.200200</td>\n",
              "    </tr>\n",
              "    <tr>\n",
              "      <th>1981</th>\n",
              "      <td>02-02-2021</td>\n",
              "      <td>14481.099610</td>\n",
              "      <td>14731.700200</td>\n",
              "      <td>14469.150390</td>\n",
              "      <td>915000.0</td>\n",
              "      <td>14647.849610</td>\n",
              "    </tr>\n",
              "    <tr>\n",
              "      <th>1982</th>\n",
              "      <td>03-02-2021</td>\n",
              "      <td>14754.900390</td>\n",
              "      <td>14868.849610</td>\n",
              "      <td>14574.150390</td>\n",
              "      <td>869500.0</td>\n",
              "      <td>14789.950200</td>\n",
              "    </tr>\n",
              "  </tbody>\n",
              "</table>\n",
              "<p>1983 rows × 6 columns</p>\n",
              "</div>"
            ],
            "text/plain": [
              "            Date          Open  ...    Volume         close\n",
              "0     21-01-2013   6085.750000  ...  130900.0   6082.299805\n",
              "1     22-01-2013   6080.149902  ...  129000.0   6048.500000\n",
              "2     23-01-2013   6052.850098  ...  137000.0   6054.299805\n",
              "3     24-01-2013   6046.200195  ...  185200.0   6019.350098\n",
              "4     25-01-2013   6024.500000  ...  147600.0   6074.649902\n",
              "...          ...           ...  ...       ...           ...\n",
              "1978  28-01-2021  13810.400390  ...  637900.0  13817.549810\n",
              "1979  29-01-2021  13946.599610  ...  753200.0  13634.599610\n",
              "1980  01-02-2021  13758.599610  ...  870500.0  14281.200200\n",
              "1981  02-02-2021  14481.099610  ...  915000.0  14647.849610\n",
              "1982  03-02-2021  14754.900390  ...  869500.0  14789.950200\n",
              "\n",
              "[1983 rows x 6 columns]"
            ]
          },
          "metadata": {
            "tags": []
          },
          "execution_count": 13
        }
      ]
    },
    {
      "cell_type": "code",
      "metadata": {
        "colab": {
          "base_uri": "https://localhost:8080/"
        },
        "id": "cUd3qLdohWd3",
        "outputId": "fef8d21e-8277-4475-fb5a-b657ea860a48"
      },
      "source": [
        "\n",
        "df = df.dropna()\n",
        "df.isnull().sum()"
      ],
      "execution_count": null,
      "outputs": [
        {
          "output_type": "execute_result",
          "data": {
            "text/plain": [
              "Date      0\n",
              "Open      0\n",
              "High      0\n",
              "Low       0\n",
              "Volume    0\n",
              "close     0\n",
              "dtype: int64"
            ]
          },
          "metadata": {
            "tags": []
          },
          "execution_count": 23
        }
      ]
    },
    {
      "cell_type": "code",
      "metadata": {
        "colab": {
          "base_uri": "https://localhost:8080/"
        },
        "id": "pJwQY-vZNkvX",
        "outputId": "da8eab96-9c5a-4d94-c556-c6b105e8463a"
      },
      "source": [
        "cols=list(df)[1:]\r\n",
        "cols"
      ],
      "execution_count": null,
      "outputs": [
        {
          "output_type": "execute_result",
          "data": {
            "text/plain": [
              "['Open', 'High', 'Low', 'Volume', 'close']"
            ]
          },
          "metadata": {
            "tags": []
          },
          "execution_count": 24
        }
      ]
    },
    {
      "cell_type": "code",
      "metadata": {
        "id": "7F_v049sOLKt",
        "colab": {
          "base_uri": "https://localhost:8080/"
        },
        "outputId": "68b7bfb5-3431-4c4b-bde0-2b71905aca92"
      },
      "source": [
        "df_for_training = df[cols].astype(float)\r\n",
        "df_for_training.shape[1]\r\n"
      ],
      "execution_count": null,
      "outputs": [
        {
          "output_type": "execute_result",
          "data": {
            "text/plain": [
              "5"
            ]
          },
          "metadata": {
            "tags": []
          },
          "execution_count": 25
        }
      ]
    },
    {
      "cell_type": "code",
      "metadata": {
        "id": "7owQ3jnhOVAQ",
        "colab": {
          "base_uri": "https://localhost:8080/"
        },
        "outputId": "1891d535-a9e3-4c39-9837-b2e835c7e616"
      },
      "source": [
        "scaler = MinMaxScaler()\r\n",
        "scaler = scaler.fit(df_for_training)\r\n",
        "df_for_training_scaled = scaler.transform(df_for_training)\r\n",
        "df_for_training_scaled"
      ],
      "execution_count": null,
      "outputs": [
        {
          "output_type": "execute_result",
          "data": {
            "text/plain": [
              "array([[0.08951365, 0.08131481, 0.10007614, 0.07228051, 0.08388259],\n",
              "       [0.0889255 , 0.08204244, 0.09747442, 0.07123136, 0.08032656],\n",
              "       [0.08605831, 0.07874441, 0.09542794, 0.07564881, 0.08093675],\n",
              "       ...,\n",
              "       [0.8953625 , 0.94424755, 0.90350382, 0.48067366, 0.94647526],\n",
              "       [0.97124379, 0.98564053, 0.98889512, 0.50524572, 0.98504983],\n",
              "       [1.        , 1.        , 1.        , 0.48012148, 1.        ]])"
            ]
          },
          "metadata": {
            "tags": []
          },
          "execution_count": 26
        }
      ]
    },
    {
      "cell_type": "code",
      "metadata": {
        "id": "77w_s4F6OcOd"
      },
      "source": [
        "trainX = []\r\n",
        "trainY = []"
      ],
      "execution_count": null,
      "outputs": []
    },
    {
      "cell_type": "code",
      "metadata": {
        "id": "o0zw92GIOe76"
      },
      "source": [
        "n_future = 1   # Number of days we want to predict into the future\r\n",
        "n_past = 100  # Number of past days we want to use to predict the future\r\n"
      ],
      "execution_count": null,
      "outputs": []
    },
    {
      "cell_type": "code",
      "metadata": {
        "id": "UemHyHT5Oieq"
      },
      "source": [
        "for i in range(n_past, len(df_for_training_scaled) - n_future +1):\r\n",
        "    trainX.append(df_for_training_scaled[i - n_past:i, 0:df_for_training.shape[1]])   #2nd argument is the index of columns used (0:df_for_training.shape[1])\r\n",
        "    trainY.append(df_for_training_scaled[i + n_future - 1:i + n_future, 4])\r\n"
      ],
      "execution_count": null,
      "outputs": []
    },
    {
      "cell_type": "code",
      "metadata": {
        "colab": {
          "base_uri": "https://localhost:8080/"
        },
        "id": "ByNrXcjHOmVq",
        "outputId": "6a247430-4601-43f9-ddb6-ac7f53056f58"
      },
      "source": [
        "trainX, trainY = np.array(trainX), np.array(trainY)\r\n",
        "\r\n",
        "print('trainX shape == {}.'.format(trainX.shape))\r\n",
        "print('trainY shape == {}.'.format(trainY.shape))\r\n",
        "print('TrainX=',trainX)\r\n",
        "print('TrainY=',trainY)"
      ],
      "execution_count": null,
      "outputs": [
        {
          "output_type": "stream",
          "text": [
            "trainX shape == (1867, 100, 5).\n",
            "trainY shape == (1867, 1).\n",
            "TrainX= [[[0.08951365 0.08131481 0.10007614 0.07228051 0.08388259]\n",
            "  [0.0889255  0.08204244 0.09747442 0.07123136 0.08032656]\n",
            "  [0.08605831 0.07874441 0.09542794 0.07564881 0.08093675]\n",
            "  ...\n",
            "  [0.05653549 0.04975314 0.06554525 0.07752623 0.04999502]\n",
            "  [0.04998187 0.04315186 0.05967552 0.07840972 0.04356678]\n",
            "  [0.05414091 0.05252768 0.06562984 0.06869133 0.05506603]]\n",
            "\n",
            " [[0.0889255  0.08204244 0.09747442 0.07123136 0.08032656]\n",
            "  [0.08605831 0.07874441 0.09542794 0.07564881 0.08093675]\n",
            "  [0.0853599  0.07827326 0.09402134 0.10226394 0.07725975]\n",
            "  ...\n",
            "  [0.04998187 0.04315186 0.05967552 0.07840972 0.04356678]\n",
            "  [0.05414091 0.05252768 0.06562984 0.06869133 0.05506603]\n",
            "  [0.06164499 0.05624451 0.06889257 0.05919382 0.05944795]]\n",
            "\n",
            " [[0.08605831 0.07874441 0.09542794 0.07564881 0.08093675]\n",
            "  [0.0853599  0.07827326 0.09402134 0.10226394 0.07725975]\n",
            "  [0.08308081 0.07986993 0.09471937 0.08150193 0.08307775]\n",
            "  ...\n",
            "  [0.05414091 0.05252768 0.06562984 0.06869133 0.05506603]\n",
            "  [0.06164499 0.05624451 0.06889257 0.05919382 0.05944795]\n",
            "  [0.06390305 0.05713445 0.0724937  0.06488128 0.05561314]]\n",
            "\n",
            " ...\n",
            "\n",
            " [[0.66510352 0.65617757 0.67568455 0.33522916 0.6567578 ]\n",
            "  [0.64285903 0.64226297 0.65410935 0.37620099 0.63638941]\n",
            "  [0.64340508 0.63483984 0.64861505 0.30938708 0.63861984]\n",
            "  ...\n",
            "  [0.94570678 0.93394518 0.9318001  0.36482606 0.91347138]\n",
            "  [0.90080293 0.89837876 0.9089505  0.35223633 0.89769537]\n",
            "  [0.91510739 0.9055611  0.89662937 0.41590282 0.87844749]]\n",
            "\n",
            " [[0.64285903 0.64226297 0.65410935 0.37620099 0.63638941]\n",
            "  [0.64340508 0.63483984 0.64861505 0.30938708 0.63861984]\n",
            "  [0.64539534 0.64071344 0.65271328 0.31595803 0.63465347]\n",
            "  ...\n",
            "  [0.90080293 0.89837876 0.9089505  0.35223633 0.89769537]\n",
            "  [0.91510739 0.9055611  0.89662937 0.41590282 0.87844749]\n",
            "  [0.8953625  0.94424755 0.90350382 0.48067366 0.94647526]]\n",
            "\n",
            " [[0.64340508 0.63483984 0.64861505 0.30938708 0.63861984]\n",
            "  [0.64539534 0.64071344 0.65271328 0.31595803 0.63465347]\n",
            "  [0.62859641 0.62614979 0.64157669 0.40248482 0.63051356]\n",
            "  ...\n",
            "  [0.91510739 0.9055611  0.89662937 0.41590282 0.87844749]\n",
            "  [0.8953625  0.94424755 0.90350382 0.48067366 0.94647526]\n",
            "  [0.97124379 0.98564053 0.98889512 0.50524572 0.98504983]]]\n",
            "TrainY= [[0.05944795]\n",
            " [0.05561314]\n",
            " [0.05652318]\n",
            " ...\n",
            " [0.94647526]\n",
            " [0.98504983]\n",
            " [1.        ]]\n"
          ],
          "name": "stdout"
        }
      ]
    },
    {
      "cell_type": "code",
      "metadata": {
        "colab": {
          "base_uri": "https://localhost:8080/"
        },
        "id": "DLrtoZAjOsvo",
        "outputId": "ed6e06ee-6cab-4ff8-b485-d5f13da1fd62"
      },
      "source": [
        "model = Sequential()\r\n",
        "model.add(LSTM(50 ,input_shape=(trainX.shape[1], trainX.shape[2]), return_sequences=True))\r\n",
        "model.add(LSTM(100,return_sequences=True))\r\n",
        "model.add(LSTM(100,return_sequences=True))\r\n",
        "model.add(LSTM(100))\r\n",
        "model.add(Dense(trainY.shape[1]))\r\n",
        "\r\n",
        "model.compile(optimizer='adam', loss='mse')\r\n",
        "print(model.summary())\r\n",
        "history = model.fit(trainX, trainY, epochs=100, batch_size=64, validation_split=0.1, verbose=1)\r\n",
        "\r\n"
      ],
      "execution_count": null,
      "outputs": [
        {
          "output_type": "stream",
          "text": [
            "Model: \"sequential_1\"\n",
            "_________________________________________________________________\n",
            "Layer (type)                 Output Shape              Param #   \n",
            "=================================================================\n",
            "lstm_4 (LSTM)                (None, 100, 50)           11200     \n",
            "_________________________________________________________________\n",
            "lstm_5 (LSTM)                (None, 100, 100)          60400     \n",
            "_________________________________________________________________\n",
            "lstm_6 (LSTM)                (None, 100, 100)          80400     \n",
            "_________________________________________________________________\n",
            "lstm_7 (LSTM)                (None, 100)               80400     \n",
            "_________________________________________________________________\n",
            "dense_1 (Dense)              (None, 1)                 101       \n",
            "=================================================================\n",
            "Total params: 232,501\n",
            "Trainable params: 232,501\n",
            "Non-trainable params: 0\n",
            "_________________________________________________________________\n",
            "None\n",
            "Epoch 1/100\n",
            "27/27 [==============================] - 6s 77ms/step - loss: 0.0562 - val_loss: 0.0046\n",
            "Epoch 2/100\n",
            "27/27 [==============================] - 1s 22ms/step - loss: 0.0029 - val_loss: 0.0094\n",
            "Epoch 3/100\n",
            "27/27 [==============================] - 1s 22ms/step - loss: 0.0015 - val_loss: 0.0059\n",
            "Epoch 4/100\n",
            "27/27 [==============================] - 1s 22ms/step - loss: 0.0011 - val_loss: 0.0038\n",
            "Epoch 5/100\n",
            "27/27 [==============================] - 1s 22ms/step - loss: 0.0011 - val_loss: 0.0045\n",
            "Epoch 6/100\n",
            "27/27 [==============================] - 1s 23ms/step - loss: 0.0010 - val_loss: 0.0027\n",
            "Epoch 7/100\n",
            "27/27 [==============================] - 1s 22ms/step - loss: 0.0011 - val_loss: 0.0018\n",
            "Epoch 8/100\n",
            "27/27 [==============================] - 1s 22ms/step - loss: 8.5113e-04 - val_loss: 0.0029\n",
            "Epoch 9/100\n",
            "27/27 [==============================] - 1s 22ms/step - loss: 7.5502e-04 - val_loss: 0.0016\n",
            "Epoch 10/100\n",
            "27/27 [==============================] - 1s 22ms/step - loss: 7.8114e-04 - val_loss: 0.0028\n",
            "Epoch 11/100\n",
            "27/27 [==============================] - 1s 23ms/step - loss: 5.5083e-04 - val_loss: 0.0024\n",
            "Epoch 12/100\n",
            "27/27 [==============================] - 1s 22ms/step - loss: 5.6367e-04 - val_loss: 0.0024\n",
            "Epoch 13/100\n",
            "27/27 [==============================] - 1s 22ms/step - loss: 5.9539e-04 - val_loss: 0.0023\n",
            "Epoch 14/100\n",
            "27/27 [==============================] - 1s 22ms/step - loss: 5.2196e-04 - val_loss: 0.0015\n",
            "Epoch 15/100\n",
            "27/27 [==============================] - 1s 23ms/step - loss: 6.4046e-04 - val_loss: 0.0024\n",
            "Epoch 16/100\n",
            "27/27 [==============================] - 1s 23ms/step - loss: 5.4641e-04 - val_loss: 0.0024\n",
            "Epoch 17/100\n",
            "27/27 [==============================] - 1s 22ms/step - loss: 7.4729e-04 - val_loss: 0.0040\n",
            "Epoch 18/100\n",
            "27/27 [==============================] - 1s 23ms/step - loss: 6.4762e-04 - val_loss: 0.0017\n",
            "Epoch 19/100\n",
            "27/27 [==============================] - 1s 23ms/step - loss: 5.3805e-04 - val_loss: 0.0017\n",
            "Epoch 20/100\n",
            "27/27 [==============================] - 1s 23ms/step - loss: 4.7693e-04 - val_loss: 0.0018\n",
            "Epoch 21/100\n",
            "27/27 [==============================] - 1s 23ms/step - loss: 4.4102e-04 - val_loss: 0.0022\n",
            "Epoch 22/100\n",
            "27/27 [==============================] - 1s 22ms/step - loss: 4.4523e-04 - val_loss: 0.0022\n",
            "Epoch 23/100\n",
            "27/27 [==============================] - 1s 23ms/step - loss: 4.1652e-04 - val_loss: 0.0024\n",
            "Epoch 24/100\n",
            "27/27 [==============================] - 1s 22ms/step - loss: 4.9624e-04 - val_loss: 0.0014\n",
            "Epoch 25/100\n",
            "27/27 [==============================] - 1s 23ms/step - loss: 5.1521e-04 - val_loss: 0.0012\n",
            "Epoch 26/100\n",
            "27/27 [==============================] - 1s 23ms/step - loss: 4.7220e-04 - val_loss: 0.0015\n",
            "Epoch 27/100\n",
            "27/27 [==============================] - 1s 23ms/step - loss: 4.0611e-04 - val_loss: 0.0022\n",
            "Epoch 28/100\n",
            "27/27 [==============================] - 1s 23ms/step - loss: 4.6252e-04 - val_loss: 0.0012\n",
            "Epoch 29/100\n",
            "27/27 [==============================] - 1s 22ms/step - loss: 3.8032e-04 - val_loss: 0.0013\n",
            "Epoch 30/100\n",
            "27/27 [==============================] - 1s 23ms/step - loss: 3.6984e-04 - val_loss: 0.0018\n",
            "Epoch 31/100\n",
            "27/27 [==============================] - 1s 22ms/step - loss: 4.1786e-04 - val_loss: 0.0016\n",
            "Epoch 32/100\n",
            "27/27 [==============================] - 1s 22ms/step - loss: 3.6638e-04 - val_loss: 0.0015\n",
            "Epoch 33/100\n",
            "27/27 [==============================] - 1s 23ms/step - loss: 3.6905e-04 - val_loss: 0.0011\n",
            "Epoch 34/100\n",
            "27/27 [==============================] - 1s 23ms/step - loss: 3.8077e-04 - val_loss: 0.0013\n",
            "Epoch 35/100\n",
            "27/27 [==============================] - 1s 22ms/step - loss: 3.5902e-04 - val_loss: 0.0012\n",
            "Epoch 36/100\n",
            "27/27 [==============================] - 1s 22ms/step - loss: 5.4229e-04 - val_loss: 0.0011\n",
            "Epoch 37/100\n",
            "27/27 [==============================] - 1s 22ms/step - loss: 3.5535e-04 - val_loss: 0.0012\n",
            "Epoch 38/100\n",
            "27/27 [==============================] - 1s 22ms/step - loss: 3.6572e-04 - val_loss: 0.0012\n",
            "Epoch 39/100\n",
            "27/27 [==============================] - 1s 22ms/step - loss: 3.3697e-04 - val_loss: 0.0024\n",
            "Epoch 40/100\n",
            "27/27 [==============================] - 1s 23ms/step - loss: 4.0860e-04 - val_loss: 0.0013\n",
            "Epoch 41/100\n",
            "27/27 [==============================] - 1s 23ms/step - loss: 3.2519e-04 - val_loss: 0.0013\n",
            "Epoch 42/100\n",
            "27/27 [==============================] - 1s 22ms/step - loss: 3.1340e-04 - val_loss: 0.0014\n",
            "Epoch 43/100\n",
            "27/27 [==============================] - 1s 22ms/step - loss: 3.4199e-04 - val_loss: 0.0012\n",
            "Epoch 44/100\n",
            "27/27 [==============================] - 1s 22ms/step - loss: 2.8932e-04 - val_loss: 0.0010\n",
            "Epoch 45/100\n",
            "27/27 [==============================] - 1s 22ms/step - loss: 3.9580e-04 - val_loss: 0.0012\n",
            "Epoch 46/100\n",
            "27/27 [==============================] - 1s 23ms/step - loss: 3.9327e-04 - val_loss: 0.0011\n",
            "Epoch 47/100\n",
            "27/27 [==============================] - 1s 22ms/step - loss: 2.8882e-04 - val_loss: 0.0011\n",
            "Epoch 48/100\n",
            "27/27 [==============================] - 1s 23ms/step - loss: 3.1700e-04 - val_loss: 0.0011\n",
            "Epoch 49/100\n",
            "27/27 [==============================] - 1s 22ms/step - loss: 3.0842e-04 - val_loss: 9.8812e-04\n",
            "Epoch 50/100\n",
            "27/27 [==============================] - 1s 23ms/step - loss: 3.5291e-04 - val_loss: 9.5525e-04\n",
            "Epoch 51/100\n",
            "27/27 [==============================] - 1s 23ms/step - loss: 2.8502e-04 - val_loss: 0.0010\n",
            "Epoch 52/100\n",
            "27/27 [==============================] - 1s 22ms/step - loss: 3.5298e-04 - val_loss: 9.3800e-04\n",
            "Epoch 53/100\n",
            "27/27 [==============================] - 1s 22ms/step - loss: 2.8147e-04 - val_loss: 0.0011\n",
            "Epoch 54/100\n",
            "27/27 [==============================] - 1s 22ms/step - loss: 2.7882e-04 - val_loss: 9.8565e-04\n",
            "Epoch 55/100\n",
            "27/27 [==============================] - 1s 22ms/step - loss: 2.8478e-04 - val_loss: 0.0011\n",
            "Epoch 56/100\n",
            "27/27 [==============================] - 1s 23ms/step - loss: 2.6058e-04 - val_loss: 0.0021\n",
            "Epoch 57/100\n",
            "27/27 [==============================] - 1s 22ms/step - loss: 2.9156e-04 - val_loss: 7.6996e-04\n",
            "Epoch 58/100\n",
            "27/27 [==============================] - 1s 23ms/step - loss: 3.1947e-04 - val_loss: 9.6654e-04\n",
            "Epoch 59/100\n",
            "27/27 [==============================] - 1s 22ms/step - loss: 2.4013e-04 - val_loss: 0.0013\n",
            "Epoch 60/100\n",
            "27/27 [==============================] - 1s 23ms/step - loss: 2.6558e-04 - val_loss: 7.9398e-04\n",
            "Epoch 61/100\n",
            "27/27 [==============================] - 1s 23ms/step - loss: 3.0768e-04 - val_loss: 9.9678e-04\n",
            "Epoch 62/100\n",
            "27/27 [==============================] - 1s 22ms/step - loss: 2.3969e-04 - val_loss: 8.6126e-04\n",
            "Epoch 63/100\n",
            "27/27 [==============================] - 1s 23ms/step - loss: 3.3169e-04 - val_loss: 0.0023\n",
            "Epoch 64/100\n",
            "27/27 [==============================] - 1s 23ms/step - loss: 2.7434e-04 - val_loss: 7.8784e-04\n",
            "Epoch 65/100\n",
            "27/27 [==============================] - 1s 23ms/step - loss: 2.3312e-04 - val_loss: 0.0012\n",
            "Epoch 66/100\n",
            "27/27 [==============================] - 1s 23ms/step - loss: 2.0822e-04 - val_loss: 7.0758e-04\n",
            "Epoch 67/100\n",
            "27/27 [==============================] - 1s 22ms/step - loss: 2.1512e-04 - val_loss: 0.0010\n",
            "Epoch 68/100\n",
            "27/27 [==============================] - 1s 23ms/step - loss: 2.3640e-04 - val_loss: 6.7695e-04\n",
            "Epoch 69/100\n",
            "27/27 [==============================] - 1s 23ms/step - loss: 2.7091e-04 - val_loss: 6.1220e-04\n",
            "Epoch 70/100\n",
            "27/27 [==============================] - 1s 23ms/step - loss: 2.2515e-04 - val_loss: 8.8631e-04\n",
            "Epoch 71/100\n",
            "27/27 [==============================] - 1s 23ms/step - loss: 1.9399e-04 - val_loss: 6.9979e-04\n",
            "Epoch 72/100\n",
            "27/27 [==============================] - 1s 22ms/step - loss: 2.4446e-04 - val_loss: 0.0011\n",
            "Epoch 73/100\n",
            "27/27 [==============================] - 1s 23ms/step - loss: 1.8080e-04 - val_loss: 7.4975e-04\n",
            "Epoch 74/100\n",
            "27/27 [==============================] - 1s 23ms/step - loss: 1.9489e-04 - val_loss: 5.3099e-04\n",
            "Epoch 75/100\n",
            "27/27 [==============================] - 1s 23ms/step - loss: 1.7523e-04 - val_loss: 0.0013\n",
            "Epoch 76/100\n",
            "27/27 [==============================] - 1s 23ms/step - loss: 2.9562e-04 - val_loss: 7.3399e-04\n",
            "Epoch 77/100\n",
            "27/27 [==============================] - 1s 22ms/step - loss: 2.1727e-04 - val_loss: 6.2537e-04\n",
            "Epoch 78/100\n",
            "27/27 [==============================] - 1s 23ms/step - loss: 1.7633e-04 - val_loss: 5.4137e-04\n",
            "Epoch 79/100\n",
            "27/27 [==============================] - 1s 23ms/step - loss: 1.7458e-04 - val_loss: 5.4832e-04\n",
            "Epoch 80/100\n",
            "27/27 [==============================] - 1s 22ms/step - loss: 2.3067e-04 - val_loss: 4.4141e-04\n",
            "Epoch 81/100\n",
            "27/27 [==============================] - 1s 23ms/step - loss: 1.8220e-04 - val_loss: 5.6117e-04\n",
            "Epoch 82/100\n",
            "27/27 [==============================] - 1s 29ms/step - loss: 1.8751e-04 - val_loss: 5.1913e-04\n",
            "Epoch 83/100\n",
            "27/27 [==============================] - 1s 23ms/step - loss: 1.7945e-04 - val_loss: 9.8104e-04\n",
            "Epoch 84/100\n",
            "27/27 [==============================] - 1s 23ms/step - loss: 1.8706e-04 - val_loss: 7.3543e-04\n",
            "Epoch 85/100\n",
            "27/27 [==============================] - 1s 22ms/step - loss: 1.7004e-04 - val_loss: 3.9262e-04\n",
            "Epoch 86/100\n",
            "27/27 [==============================] - 1s 23ms/step - loss: 1.8786e-04 - val_loss: 7.7115e-04\n",
            "Epoch 87/100\n",
            "27/27 [==============================] - 1s 23ms/step - loss: 1.6033e-04 - val_loss: 4.0557e-04\n",
            "Epoch 88/100\n",
            "27/27 [==============================] - 1s 23ms/step - loss: 1.6537e-04 - val_loss: 4.1606e-04\n",
            "Epoch 89/100\n",
            "27/27 [==============================] - 1s 23ms/step - loss: 1.4197e-04 - val_loss: 0.0020\n",
            "Epoch 90/100\n",
            "27/27 [==============================] - 1s 22ms/step - loss: 2.7266e-04 - val_loss: 5.9723e-04\n",
            "Epoch 91/100\n",
            "27/27 [==============================] - 1s 23ms/step - loss: 1.4311e-04 - val_loss: 6.6567e-04\n",
            "Epoch 92/100\n",
            "27/27 [==============================] - 1s 23ms/step - loss: 1.5289e-04 - val_loss: 4.5817e-04\n",
            "Epoch 93/100\n",
            "27/27 [==============================] - 1s 22ms/step - loss: 2.4037e-04 - val_loss: 4.3809e-04\n",
            "Epoch 94/100\n",
            "27/27 [==============================] - 1s 23ms/step - loss: 1.6519e-04 - val_loss: 0.0017\n",
            "Epoch 95/100\n",
            "27/27 [==============================] - 1s 23ms/step - loss: 3.2159e-04 - val_loss: 5.3370e-04\n",
            "Epoch 96/100\n",
            "27/27 [==============================] - 1s 23ms/step - loss: 1.4903e-04 - val_loss: 6.4350e-04\n",
            "Epoch 97/100\n",
            "27/27 [==============================] - 1s 23ms/step - loss: 1.5697e-04 - val_loss: 0.0012\n",
            "Epoch 98/100\n",
            "27/27 [==============================] - 1s 23ms/step - loss: 1.6595e-04 - val_loss: 4.3956e-04\n",
            "Epoch 99/100\n",
            "27/27 [==============================] - 1s 23ms/step - loss: 1.7357e-04 - val_loss: 4.3266e-04\n",
            "Epoch 100/100\n",
            "27/27 [==============================] - 1s 23ms/step - loss: 1.5501e-04 - val_loss: 4.3503e-04\n"
          ],
          "name": "stdout"
        }
      ]
    },
    {
      "cell_type": "code",
      "metadata": {
        "id": "4DwoGoGgGGf6",
        "colab": {
          "base_uri": "https://localhost:8080/",
          "height": 265
        },
        "outputId": "501f1f56-effe-49f6-a88a-78978d3e5c00"
      },
      "source": [
        "# Plot of the training and validation loss \n",
        "import matplotlib.pyplot as pyplot\n",
        "\n",
        "pyplot.plot(history.history['loss'], label='train')\n",
        "pyplot.plot(history.history['val_loss'], label='test')\n",
        "pyplot.legend()\n",
        "pyplot.show()"
      ],
      "execution_count": null,
      "outputs": [
        {
          "output_type": "display_data",
          "data": {
            "image/png": "[encoded data removed]",
            "text/plain": [
              "<Figure size 432x288 with 1 Axes>"
            ]
          },
          "metadata": {
            "tags": [],
            "needs_background": "light"
          }
        }
      ]
    },
    {
      "cell_type": "code",
      "metadata": {
        "id": "OleBXw3nO4Oi"
      },
      "source": [
        "#Forecasting...\r\n",
        "#Start with the last day in training date and predict future...\r\n",
        "n_future=1 #Redefining n_future to extend prediction dates beyond original n_future dates...\r\n",
        "forecast_period_dates = pd.date_range(list(train_dates)[-1], periods=n_future, freq='1d').tolist()\r\n",
        "\r\n",
        "forecast = model.predict(trainX[-n_future:]) #forecast "
      ],
      "execution_count": null,
      "outputs": []
    },
    {
      "cell_type": "code",
      "metadata": {
        "id": "974SDeSIPB3Y"
      },
      "source": [
        "#Perform inverse transformation to rescale back to original range\r\n",
        "#Since we used 5 variables for transform, the inverse expects same dimensions\r\n",
        "#Therefore, let us copy our values 5 times and discard them after inverse transform\r\n",
        "forecast_copies = np.repeat(forecast, df_for_training.shape[1], axis=-1)\r\n",
        "y_pred_future = scaler.inverse_transform(forecast_copies)[:,0]"
      ],
      "execution_count": null,
      "outputs": []
    },
    {
      "cell_type": "code",
      "metadata": {
        "id": "Z4eE6l3gPOSP",
        "colab": {
          "base_uri": "https://localhost:8080/"
        },
        "outputId": "f3eeb9cf-432f-42fc-9780-7f4b3a1dc6eb"
      },
      "source": [
        "#Prediction for the next day\n",
        "y_pred_future = y_pred_future[::-1]\n",
        "y_pred_future"
      ],
      "execution_count": null,
      "outputs": [
        {
          "output_type": "execute_result",
          "data": {
            "text/plain": [
              "array([14367.856], dtype=float32)"
            ]
          },
          "metadata": {
            "tags": []
          },
          "execution_count": 35
        }
      ]
    },
    {
      "cell_type": "code",
      "metadata": {
        "id": "Qq795YeDPIEs",
        "colab": {
          "base_uri": "https://localhost:8080/"
        },
        "outputId": "cbc5bbfb-03cf-416d-f8d8-396064c244a1"
      },
      "source": [
        "## %Difference in the predicted value\r\n",
        "prediction = y_pred_future[0]\r\n",
        "print('Predicted value for next day=',prediction)\r\n",
        "b = df['close'].iloc[-1]\r\n",
        "print('last close price=',b)\r\n",
        "percentage = ((prediction-b)/b)*100\r\n",
        "print('percentage change should be =', percentage.round(3),'%' )"
      ],
      "execution_count": null,
      "outputs": [
        {
          "output_type": "stream",
          "text": [
            "Predicted value for next day= 14367.856\n",
            "last close price= 14789.9502\n",
            "percentage change should be = -2.854 %\n"
          ],
          "name": "stdout"
        }
      ]
    },
    {
      "cell_type": "code",
      "metadata": {
        "id": "QEyxuJooPEpt"
      },
      "source": [
        "# Convert timestamp to date\r\n",
        "forecast_dates = []\r\n",
        "for time_i in forecast_period_dates:\r\n",
        "    forecast_dates.append(time_i.date())\r\n",
        "    \r\n",
        "df_forecast = pd.DataFrame({'Date':np.array(forecast_dates), 'Close':y_pred_future})\r\n",
        "df_forecast['Date']=pd.to_datetime(df_forecast['Date'])\r\n",
        "\r\n",
        "\r\n",
        "original = df[['Date', 'Close']]\r\n",
        "original['Date']=pd.to_datetime(original['Date'])\r\n",
        "original = original.loc[original['Date'] >= '2020-5-1']\r\n",
        "\r\n",
        "sns.lineplot(original['Date'], original['Close'])\r\n",
        "sns.lineplot(df_forecast['Date'], df_forecast['Close'])"
      ],
      "execution_count": null,
      "outputs": []
    },
    {
      "cell_type": "code",
      "metadata": {
        "id": "vYa5x67s8UK4"
      },
      "source": [
        ""
      ],
      "execution_count": null,
      "outputs": []
    }
  ]
}