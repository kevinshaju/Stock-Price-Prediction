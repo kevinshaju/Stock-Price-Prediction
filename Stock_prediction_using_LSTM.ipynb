{
  "nbformat": 4,
  "nbformat_minor": 0,
  "metadata": {
    "colab": {
      "name": "Stock_prediction_using_LSTM.ipynb",
      "provenance": [],
      "collapsed_sections": []
    },
    "kernelspec": {
      "name": "python3",
      "display_name": "Python 3"
    },
    "accelerator": "GPU"
  },
  "cells": [
    {
      "cell_type": "markdown",
      "metadata": {
        "id": "BJz0LKbyCq97"
      },
      "source": [
        "# Stock Price Prediction using Univariate LSTM\n",
        " "
      ]
    },
    {
      "cell_type": "markdown",
      "metadata": {
        "id": "2dAV-GXmDM2R"
      },
      "source": [
        "This notebook showcases how to predict the closing price of a stock using a single feature. The model used is **Bidirectional LSTM** which is a type of RNN. The data used is downloaded from the NSE website for the NIFTY-50 companies. The model looks back at 100 days of previous data and gives a prediction for the next day.\n",
        "\n",
        "---\n",
        "\n",
        "\n",
        "\n",
        "---\n",
        "\n"
      ]
    },
    {
      "cell_type": "code",
      "metadata": {
        "colab": {
          "base_uri": "https://localhost:8080/"
        },
        "id": "A2cxXri0rxTk",
        "outputId": "b24539fc-efc6-4d4d-9e7b-81f1f37c5ff4"
      },
      "source": [
        "from google.colab import drive\n",
        "drive.mount('/content/drive')"
      ],
      "execution_count": null,
      "outputs": [
        {
          "output_type": "stream",
          "text": [
            "Drive already mounted at /content/drive; to attempt to forcibly remount, call drive.mount(\"/content/drive\", force_remount=True).\n"
          ],
          "name": "stdout"
        }
      ]
    },
    {
      "cell_type": "code",
      "metadata": {
        "id": "UVCjIf3xT9c3"
      },
      "source": [
        "import pandas as pd\r\n",
        "df=pd.read_csv('/content/drive/MyDrive/Praedico/NIFTY 50_Data.csv')"
      ],
      "execution_count": null,
      "outputs": []
    },
    {
      "cell_type": "code",
      "metadata": {
        "colab": {
          "base_uri": "https://localhost:8080/",
          "height": 407
        },
        "id": "pv6Yf6McUxyR",
        "outputId": "c4de5919-3232-4bce-e70e-fe31b7f7387e"
      },
      "source": [
        "\n",
        "df= df.iloc[::-1]\n",
        "df"
      ],
      "execution_count": null,
      "outputs": [
        {
          "output_type": "execute_result",
          "data": {
            "text/html": [
              "<div>\n",
              "<style scoped>\n",
              "    .dataframe tbody tr th:only-of-type {\n",
              "        vertical-align: middle;\n",
              "    }\n",
              "\n",
              "    .dataframe tbody tr th {\n",
              "        vertical-align: top;\n",
              "    }\n",
              "\n",
              "    .dataframe thead th {\n",
              "        text-align: right;\n",
              "    }\n",
              "</style>\n",
              "<table border=\"1\" class=\"dataframe\">\n",
              "  <thead>\n",
              "    <tr style=\"text-align: right;\">\n",
              "      <th></th>\n",
              "      <th>Date</th>\n",
              "      <th>Open</th>\n",
              "      <th>High</th>\n",
              "      <th>Low</th>\n",
              "      <th>Close</th>\n",
              "    </tr>\n",
              "  </thead>\n",
              "  <tbody>\n",
              "    <tr>\n",
              "      <th>5247</th>\n",
              "      <td>03-Jan-00</td>\n",
              "      <td>1482.15</td>\n",
              "      <td>1592.90</td>\n",
              "      <td>1482.15</td>\n",
              "      <td>1592.20</td>\n",
              "    </tr>\n",
              "    <tr>\n",
              "      <th>5246</th>\n",
              "      <td>04-Jan-00</td>\n",
              "      <td>1594.40</td>\n",
              "      <td>1641.95</td>\n",
              "      <td>1594.40</td>\n",
              "      <td>1638.70</td>\n",
              "    </tr>\n",
              "    <tr>\n",
              "      <th>5245</th>\n",
              "      <td>05-Jan-00</td>\n",
              "      <td>1634.55</td>\n",
              "      <td>1635.50</td>\n",
              "      <td>1555.05</td>\n",
              "      <td>1595.80</td>\n",
              "    </tr>\n",
              "    <tr>\n",
              "      <th>5244</th>\n",
              "      <td>06-Jan-00</td>\n",
              "      <td>1595.80</td>\n",
              "      <td>1639.00</td>\n",
              "      <td>1595.80</td>\n",
              "      <td>1617.60</td>\n",
              "    </tr>\n",
              "    <tr>\n",
              "      <th>5243</th>\n",
              "      <td>07-Jan-00</td>\n",
              "      <td>1616.60</td>\n",
              "      <td>1628.25</td>\n",
              "      <td>1597.20</td>\n",
              "      <td>1613.30</td>\n",
              "    </tr>\n",
              "    <tr>\n",
              "      <th>...</th>\n",
              "      <td>...</td>\n",
              "      <td>...</td>\n",
              "      <td>...</td>\n",
              "      <td>...</td>\n",
              "      <td>...</td>\n",
              "    </tr>\n",
              "    <tr>\n",
              "      <th>4</th>\n",
              "      <td>28-01-2021</td>\n",
              "      <td>13810.40</td>\n",
              "      <td>13898.25</td>\n",
              "      <td>13713.25</td>\n",
              "      <td>13817.55</td>\n",
              "    </tr>\n",
              "    <tr>\n",
              "      <th>3</th>\n",
              "      <td>29-01-2021</td>\n",
              "      <td>13946.60</td>\n",
              "      <td>13966.85</td>\n",
              "      <td>13596.75</td>\n",
              "      <td>13634.60</td>\n",
              "    </tr>\n",
              "    <tr>\n",
              "      <th>2</th>\n",
              "      <td>01-02-2021</td>\n",
              "      <td>13758.60</td>\n",
              "      <td>14336.35</td>\n",
              "      <td>13661.75</td>\n",
              "      <td>14281.20</td>\n",
              "    </tr>\n",
              "    <tr>\n",
              "      <th>1</th>\n",
              "      <td>02-02-2021</td>\n",
              "      <td>14481.10</td>\n",
              "      <td>14731.70</td>\n",
              "      <td>14469.10</td>\n",
              "      <td>14647.80</td>\n",
              "    </tr>\n",
              "    <tr>\n",
              "      <th>0</th>\n",
              "      <td>03-02-2021</td>\n",
              "      <td>14754.90</td>\n",
              "      <td>14868.85</td>\n",
              "      <td>14574.15</td>\n",
              "      <td>14789.95</td>\n",
              "    </tr>\n",
              "  </tbody>\n",
              "</table>\n",
              "<p>5248 rows × 5 columns</p>\n",
              "</div>"
            ],
            "text/plain": [
              "            Date      Open      High       Low     Close\n",
              "5247   03-Jan-00   1482.15   1592.90   1482.15   1592.20\n",
              "5246   04-Jan-00   1594.40   1641.95   1594.40   1638.70\n",
              "5245   05-Jan-00   1634.55   1635.50   1555.05   1595.80\n",
              "5244   06-Jan-00   1595.80   1639.00   1595.80   1617.60\n",
              "5243   07-Jan-00   1616.60   1628.25   1597.20   1613.30\n",
              "...          ...       ...       ...       ...       ...\n",
              "4     28-01-2021  13810.40  13898.25  13713.25  13817.55\n",
              "3     29-01-2021  13946.60  13966.85  13596.75  13634.60\n",
              "2     01-02-2021  13758.60  14336.35  13661.75  14281.20\n",
              "1     02-02-2021  14481.10  14731.70  14469.10  14647.80\n",
              "0     03-02-2021  14754.90  14868.85  14574.15  14789.95\n",
              "\n",
              "[5248 rows x 5 columns]"
            ]
          },
          "metadata": {
            "tags": []
          },
          "execution_count": 3
        }
      ]
    },
    {
      "cell_type": "code",
      "metadata": {
        "id": "TFqnJ-UyU1w4"
      },
      "source": [
        "#using close coloum for prediction\r\n",
        "df1=df.reset_index()['Close']\r\n"
      ],
      "execution_count": null,
      "outputs": []
    },
    {
      "cell_type": "code",
      "metadata": {
        "colab": {
          "base_uri": "https://localhost:8080/"
        },
        "id": "bnFVvV_EU9KV",
        "outputId": "329aa494-b8bd-4606-b7b2-9621326b2a6a"
      },
      "source": [
        "\r\n",
        "df1"
      ],
      "execution_count": null,
      "outputs": [
        {
          "output_type": "execute_result",
          "data": {
            "text/plain": [
              "0        1592.20\n",
              "1        1638.70\n",
              "2        1595.80\n",
              "3        1617.60\n",
              "4        1613.30\n",
              "          ...   \n",
              "5243    13817.55\n",
              "5244    13634.60\n",
              "5245    14281.20\n",
              "5246    14647.80\n",
              "5247    14789.95\n",
              "Name: Close, Length: 5248, dtype: float64"
            ]
          },
          "metadata": {
            "tags": []
          },
          "execution_count": 5
        }
      ]
    },
    {
      "cell_type": "code",
      "metadata": {
        "colab": {
          "base_uri": "https://localhost:8080/",
          "height": 283
        },
        "id": "oEO244t_U-x9",
        "outputId": "49d4bfa1-e348-470e-8ab8-3420761bd311"
      },
      "source": [
        "#plotting the close data \r\n",
        "import matplotlib.pyplot as plt\r\n",
        "plt.plot(df1)"
      ],
      "execution_count": null,
      "outputs": [
        {
          "output_type": "execute_result",
          "data": {
            "text/plain": [
              "[<matplotlib.lines.Line2D at 0x7ff0b0e1beb8>]"
            ]
          },
          "metadata": {
            "tags": []
          },
          "execution_count": 6
        },
        {
          "output_type": "display_data",
          "data": {
            "image/png": "[encoded data removed]",
            "text/plain": [
              "<Figure size 432x288 with 1 Axes>"
            ]
          },
          "metadata": {
            "tags": [],
            "needs_background": "light"
          }
        }
      ]
    },
    {
      "cell_type": "code",
      "metadata": {
        "id": "GCzjukUlVA0c"
      },
      "source": [
        "## preprocessing the data\r\n",
        "import numpy as np\r\n"
      ],
      "execution_count": null,
      "outputs": []
    },
    {
      "cell_type": "code",
      "metadata": {
        "id": "P2wPjbIEVHDU"
      },
      "source": [
        "#scaling the data\r\n",
        "from sklearn.preprocessing import MinMaxScaler\r\n",
        "scaler=MinMaxScaler(feature_range=(0,1))\r\n",
        "df1=scaler.fit_transform(np.array(df1).reshape(-1,1))"
      ],
      "execution_count": null,
      "outputs": []
    },
    {
      "cell_type": "code",
      "metadata": {
        "colab": {
          "base_uri": "https://localhost:8080/"
        },
        "id": "znBABFjvVOhc",
        "outputId": "e329c8e8-4ce4-448a-ab9f-1a92df097dda"
      },
      "source": [
        "print(df1)"
      ],
      "execution_count": null,
      "outputs": [
        {
          "output_type": "stream",
          "text": [
            "[[0.05295732]\n",
            " [0.05629406]\n",
            " [0.05321565]\n",
            " ...\n",
            " [0.96349317]\n",
            " [0.98979962]\n",
            " [1.        ]]\n"
          ],
          "name": "stdout"
        }
      ]
    },
    {
      "cell_type": "code",
      "metadata": {
        "id": "nmGSQL6dVXF1"
      },
      "source": [
        "##splitting dataset into train and test split\r\n",
        "training_size=int(len(df1)*0.80)\r\n",
        "test_size=len(df1)-training_size\r\n",
        "train_data,test_data=df1[0:training_size,:],df1[training_size:len(df1),:1]"
      ],
      "execution_count": null,
      "outputs": []
    },
    {
      "cell_type": "code",
      "metadata": {
        "colab": {
          "base_uri": "https://localhost:8080/"
        },
        "id": "LZuHsfc3VY59",
        "outputId": "024477ae-196d-4d11-928f-14523faf7175"
      },
      "source": [
        "training_size,test_size"
      ],
      "execution_count": null,
      "outputs": [
        {
          "output_type": "execute_result",
          "data": {
            "text/plain": [
              "(4198, 1050)"
            ]
          },
          "metadata": {
            "tags": []
          },
          "execution_count": 11
        }
      ]
    },
    {
      "cell_type": "code",
      "metadata": {
        "colab": {
          "base_uri": "https://localhost:8080/"
        },
        "id": "2ys3t-PhVeBF",
        "outputId": "94f61ae2-efdc-4d35-a4ce-458aa5d482b9"
      },
      "source": [
        "train_data"
      ],
      "execution_count": null,
      "outputs": [
        {
          "output_type": "execute_result",
          "data": {
            "text/plain": [
              "array([[0.05295732],\n",
              "       [0.05629406],\n",
              "       [0.05321565],\n",
              "       ...,\n",
              "       [0.54389251],\n",
              "       [0.54843478],\n",
              "       [0.55177152]])"
            ]
          },
          "metadata": {
            "tags": []
          },
          "execution_count": 12
        }
      ]
    },
    {
      "cell_type": "code",
      "metadata": {
        "id": "wBCdH7BaVfm2"
      },
      "source": [
        "\r\n",
        "# convert an array of values into a dataset matrix \r\n",
        "def create_dataset(dataset, time_step=1):\r\n",
        "\tdataX, dataY = [], []\r\n",
        "\tfor i in range(len(dataset)-time_step-1):\r\n",
        "\t\ta = dataset[i:(i+time_step), 0]   ###i=0, 0,1,2,3-----99   100 \r\n",
        "\t\tdataX.append(a)\r\n",
        "\t\tdataY.append(dataset[i + time_step, 0])\r\n",
        "\treturn np.array(dataX), np.array(dataY)"
      ],
      "execution_count": null,
      "outputs": []
    },
    {
      "cell_type": "code",
      "metadata": {
        "id": "M3V-UI6eVo7N"
      },
      "source": [
        "# reshape into X=t,t+1,t+2,t+3 and Y=t+4\r\n",
        "time_step = 100\r\n",
        "X_train, y_train = create_dataset(train_data, time_step)\r\n",
        "X_test, ytest = create_dataset(test_data, time_step)"
      ],
      "execution_count": null,
      "outputs": []
    },
    {
      "cell_type": "code",
      "metadata": {
        "colab": {
          "base_uri": "https://localhost:8080/"
        },
        "id": "ZuK8dcmBVsTE",
        "outputId": "4cc02131-621f-401f-d38a-3b88bfd981f8"
      },
      "source": [
        "print(X_train.shape), print(y_train.shape)\r\n",
        "print(X_test.shape), print(ytest.shape)"
      ],
      "execution_count": null,
      "outputs": [
        {
          "output_type": "stream",
          "text": [
            "(4097, 100)\n",
            "(4097,)\n",
            "(949, 100)\n",
            "(949,)\n"
          ],
          "name": "stdout"
        },
        {
          "output_type": "execute_result",
          "data": {
            "text/plain": [
              "(None, None)"
            ]
          },
          "metadata": {
            "tags": []
          },
          "execution_count": 15
        }
      ]
    },
    {
      "cell_type": "code",
      "metadata": {
        "id": "L05Nu1BnV0PN"
      },
      "source": [
        "# reshape input to be [samples, time steps, features] which is required for LSTM\r\n",
        "X_train =X_train.reshape(X_train.shape[0],X_train.shape[1] , 1)\r\n",
        "X_test = X_test.reshape(X_test.shape[0],X_test.shape[1] , 1)"
      ],
      "execution_count": null,
      "outputs": []
    },
    {
      "cell_type": "code",
      "metadata": {
        "colab": {
          "base_uri": "https://localhost:8080/"
        },
        "id": "EePGjvsvV44N",
        "outputId": "a2252b91-0bff-4a6d-cca7-f804a887ba2c"
      },
      "source": [
        "X_train.shape"
      ],
      "execution_count": null,
      "outputs": [
        {
          "output_type": "execute_result",
          "data": {
            "text/plain": [
              "(4097, 100, 1)"
            ]
          },
          "metadata": {
            "tags": []
          },
          "execution_count": 17
        }
      ]
    },
    {
      "cell_type": "code",
      "metadata": {
        "colab": {
          "base_uri": "https://localhost:8080/"
        },
        "id": "MxCrTG8vV7LV",
        "outputId": "231c7d0c-b2f1-429b-e92d-1be99b17b36a"
      },
      "source": [
        "### Create the Stacked LSTM model\r\n",
        "from tensorflow.keras.models import Sequential\r\n",
        "from tensorflow.keras.layers import Dense\r\n",
        "from tensorflow.keras.layers import LSTM\r\n",
        "model=Sequential()\r\n",
        "model.add(LSTM(50,return_sequences=True,input_shape=(100,1)))\r\n",
        "model.add(LSTM(100,return_sequences=True))\r\n",
        "model.add(LSTM(100))\r\n",
        "model.add(Dense(1))\r\n",
        "model.compile(loss='mean_squared_error',optimizer='adam')\r\n",
        "model.summary()"
      ],
      "execution_count": null,
      "outputs": [
        {
          "output_type": "stream",
          "text": [
            "Model: \"sequential\"\n",
            "_________________________________________________________________\n",
            "Layer (type)                 Output Shape              Param #   \n",
            "=================================================================\n",
            "lstm (LSTM)                  (None, 100, 50)           10400     \n",
            "_________________________________________________________________\n",
            "lstm_1 (LSTM)                (None, 100, 100)          60400     \n",
            "_________________________________________________________________\n",
            "lstm_2 (LSTM)                (None, 100)               80400     \n",
            "_________________________________________________________________\n",
            "dense (Dense)                (None, 1)                 101       \n",
            "=================================================================\n",
            "Total params: 151,301\n",
            "Trainable params: 151,301\n",
            "Non-trainable params: 0\n",
            "_________________________________________________________________\n"
          ],
          "name": "stdout"
        }
      ]
    },
    {
      "cell_type": "code",
      "metadata": {
        "colab": {
          "base_uri": "https://localhost:8080/"
        },
        "id": "189ma-ELWBq9",
        "outputId": "57750241-ff84-4605-9c34-3c4495139d2a"
      },
      "source": [
        "model.fit(X_train,y_train,validation_data=(X_test,ytest),epochs=50,batch_size=64,verbose=1)"
      ],
      "execution_count": null,
      "outputs": [
        {
          "output_type": "stream",
          "text": [
            "Epoch 1/50\n",
            "65/65 [==============================] - 7s 35ms/step - loss: 0.0116 - val_loss: 0.0012\n",
            "Epoch 2/50\n",
            "65/65 [==============================] - 1s 17ms/step - loss: 1.8945e-04 - val_loss: 8.3290e-04\n",
            "Epoch 3/50\n",
            "65/65 [==============================] - 1s 17ms/step - loss: 1.9379e-04 - val_loss: 8.5421e-04\n",
            "Epoch 4/50\n",
            "65/65 [==============================] - 1s 17ms/step - loss: 1.6929e-04 - val_loss: 7.2259e-04\n",
            "Epoch 5/50\n",
            "65/65 [==============================] - 1s 18ms/step - loss: 1.4432e-04 - val_loss: 9.4730e-04\n",
            "Epoch 6/50\n",
            "65/65 [==============================] - 1s 17ms/step - loss: 1.3868e-04 - val_loss: 0.0018\n",
            "Epoch 7/50\n",
            "65/65 [==============================] - 1s 17ms/step - loss: 2.4063e-04 - val_loss: 6.9422e-04\n",
            "Epoch 8/50\n",
            "65/65 [==============================] - 1s 17ms/step - loss: 1.6518e-04 - val_loss: 0.0011\n",
            "Epoch 9/50\n",
            "65/65 [==============================] - 1s 17ms/step - loss: 2.0524e-04 - val_loss: 6.4233e-04\n",
            "Epoch 10/50\n",
            "65/65 [==============================] - 1s 17ms/step - loss: 1.0859e-04 - val_loss: 0.0087\n",
            "Epoch 11/50\n",
            "65/65 [==============================] - 1s 17ms/step - loss: 4.7023e-04 - val_loss: 5.2631e-04\n",
            "Epoch 12/50\n",
            "65/65 [==============================] - 1s 18ms/step - loss: 1.1847e-04 - val_loss: 9.8253e-04\n",
            "Epoch 13/50\n",
            "65/65 [==============================] - 1s 17ms/step - loss: 1.6255e-04 - val_loss: 0.0017\n",
            "Epoch 14/50\n",
            "65/65 [==============================] - 1s 17ms/step - loss: 1.3252e-04 - val_loss: 4.8214e-04\n",
            "Epoch 15/50\n",
            "65/65 [==============================] - 1s 17ms/step - loss: 1.1172e-04 - val_loss: 0.0015\n",
            "Epoch 16/50\n",
            "65/65 [==============================] - 1s 17ms/step - loss: 1.3114e-04 - val_loss: 7.2476e-04\n",
            "Epoch 17/50\n",
            "65/65 [==============================] - 1s 18ms/step - loss: 1.0752e-04 - val_loss: 0.0027\n",
            "Epoch 18/50\n",
            "65/65 [==============================] - 1s 17ms/step - loss: 1.6071e-04 - val_loss: 3.2411e-04\n",
            "Epoch 19/50\n",
            "65/65 [==============================] - 1s 18ms/step - loss: 8.3321e-05 - val_loss: 4.1147e-04\n",
            "Epoch 20/50\n",
            "65/65 [==============================] - 1s 18ms/step - loss: 1.0398e-04 - val_loss: 3.3369e-04\n",
            "Epoch 21/50\n",
            "65/65 [==============================] - 1s 18ms/step - loss: 1.0172e-04 - val_loss: 2.9490e-04\n",
            "Epoch 22/50\n",
            "65/65 [==============================] - 1s 17ms/step - loss: 7.5603e-05 - val_loss: 3.2551e-04\n",
            "Epoch 23/50\n",
            "65/65 [==============================] - 1s 18ms/step - loss: 9.5689e-05 - val_loss: 2.9313e-04\n",
            "Epoch 24/50\n",
            "65/65 [==============================] - 1s 17ms/step - loss: 7.8728e-05 - val_loss: 6.0427e-04\n",
            "Epoch 25/50\n",
            "65/65 [==============================] - 1s 17ms/step - loss: 8.2732e-05 - val_loss: 4.7945e-04\n",
            "Epoch 26/50\n",
            "65/65 [==============================] - 1s 17ms/step - loss: 9.7623e-05 - val_loss: 2.4953e-04\n",
            "Epoch 27/50\n",
            "65/65 [==============================] - 1s 17ms/step - loss: 7.4325e-05 - val_loss: 2.4135e-04\n",
            "Epoch 28/50\n",
            "65/65 [==============================] - 1s 17ms/step - loss: 8.8714e-05 - val_loss: 6.3514e-04\n",
            "Epoch 29/50\n",
            "65/65 [==============================] - 1s 17ms/step - loss: 9.3164e-05 - val_loss: 3.0491e-04\n",
            "Epoch 30/50\n",
            "65/65 [==============================] - 1s 17ms/step - loss: 7.9223e-05 - val_loss: 7.5118e-04\n",
            "Epoch 31/50\n",
            "65/65 [==============================] - 1s 17ms/step - loss: 8.4862e-05 - val_loss: 4.8494e-04\n",
            "Epoch 32/50\n",
            "65/65 [==============================] - 1s 17ms/step - loss: 6.8554e-05 - val_loss: 5.1907e-04\n",
            "Epoch 33/50\n",
            "65/65 [==============================] - 1s 17ms/step - loss: 7.3086e-05 - val_loss: 0.0012\n",
            "Epoch 34/50\n",
            "65/65 [==============================] - 1s 17ms/step - loss: 1.0939e-04 - val_loss: 8.0922e-04\n",
            "Epoch 35/50\n",
            "65/65 [==============================] - 1s 17ms/step - loss: 7.7628e-05 - val_loss: 1.9346e-04\n",
            "Epoch 36/50\n",
            "65/65 [==============================] - 1s 17ms/step - loss: 5.9385e-05 - val_loss: 2.6269e-04\n",
            "Epoch 37/50\n",
            "65/65 [==============================] - 1s 17ms/step - loss: 6.3368e-05 - val_loss: 0.0013\n",
            "Epoch 38/50\n",
            "65/65 [==============================] - 1s 17ms/step - loss: 8.0965e-05 - val_loss: 1.8518e-04\n",
            "Epoch 39/50\n",
            "65/65 [==============================] - 1s 17ms/step - loss: 5.3426e-05 - val_loss: 7.1439e-04\n",
            "Epoch 40/50\n",
            "65/65 [==============================] - 1s 17ms/step - loss: 7.3854e-05 - val_loss: 3.4306e-04\n",
            "Epoch 41/50\n",
            "65/65 [==============================] - 1s 17ms/step - loss: 5.2590e-05 - val_loss: 3.6402e-04\n",
            "Epoch 42/50\n",
            "65/65 [==============================] - 1s 17ms/step - loss: 6.4863e-05 - val_loss: 1.7797e-04\n",
            "Epoch 43/50\n",
            "65/65 [==============================] - 1s 17ms/step - loss: 5.7138e-05 - val_loss: 0.0014\n",
            "Epoch 44/50\n",
            "65/65 [==============================] - 1s 17ms/step - loss: 1.5363e-04 - val_loss: 1.8811e-04\n",
            "Epoch 45/50\n",
            "65/65 [==============================] - 1s 17ms/step - loss: 4.2461e-05 - val_loss: 0.0029\n",
            "Epoch 46/50\n",
            "65/65 [==============================] - 1s 17ms/step - loss: 2.3362e-04 - val_loss: 1.4832e-04\n",
            "Epoch 47/50\n",
            "65/65 [==============================] - 1s 17ms/step - loss: 5.1425e-05 - val_loss: 1.3723e-04\n",
            "Epoch 48/50\n",
            "65/65 [==============================] - 1s 17ms/step - loss: 5.0835e-05 - val_loss: 2.3680e-04\n",
            "Epoch 49/50\n",
            "65/65 [==============================] - 1s 17ms/step - loss: 4.3948e-05 - val_loss: 1.4379e-04\n",
            "Epoch 50/50\n",
            "65/65 [==============================] - 1s 16ms/step - loss: 4.2404e-05 - val_loss: 1.1963e-04\n"
          ],
          "name": "stdout"
        },
        {
          "output_type": "execute_result",
          "data": {
            "text/plain": [
              "<tensorflow.python.keras.callbacks.History at 0x7ff0602d1320>"
            ]
          },
          "metadata": {
            "tags": []
          },
          "execution_count": 19
        }
      ]
    },
    {
      "cell_type": "code",
      "metadata": {
        "id": "eaWyzPriWF7t"
      },
      "source": [
        "import tensorflow as tf\r\n",
        "### Lets Do the prediction and check performance metrics\r\n",
        "train_predict=model.predict(X_train)\r\n",
        "test_predict=model.predict(X_test)\r\n"
      ],
      "execution_count": null,
      "outputs": []
    },
    {
      "cell_type": "code",
      "metadata": {
        "id": "_AotRCFNXcGX"
      },
      "source": [
        "##Transformback to original form\r\n",
        "train_predict=scaler.inverse_transform(train_predict)\r\n",
        "test_predict=scaler.inverse_transform(test_predict)"
      ],
      "execution_count": null,
      "outputs": []
    },
    {
      "cell_type": "code",
      "metadata": {
        "colab": {
          "base_uri": "https://localhost:8080/"
        },
        "id": "0Qbx0_wkWadp",
        "outputId": "4066374f-3faf-42be-f4ce-645e5e9cd295"
      },
      "source": [
        "### Calculate RMSE performance metrics\r\n",
        "import math\r\n",
        "from sklearn.metrics import mean_squared_error\r\n",
        "yt=math.sqrt(mean_squared_error(y_train,train_predict))\r\n",
        "print(yt)\r\n",
        "### Test Data RMSE\r\n",
        "yte=math.sqrt(mean_squared_error(ytest,test_predict))\r\n",
        "print(yte)"
      ],
      "execution_count": null,
      "outputs": [
        {
          "output_type": "stream",
          "text": [
            "4853.611939073437\n",
            "11009.17021256466\n"
          ],
          "name": "stdout"
        }
      ]
    },
    {
      "cell_type": "code",
      "metadata": {
        "colab": {
          "base_uri": "https://localhost:8080/",
          "height": 265
        },
        "id": "9PyBxQi0WzoU",
        "outputId": "b3842d7e-0a65-4775-f8cc-4f75b9412256"
      },
      "source": [
        "### Plotting \r\n",
        "# shift train predictions for plotting\r\n",
        "look_back=100\r\n",
        "trainPredictPlot = np.empty_like(df1)\r\n",
        "trainPredictPlot[:, :] = np.nan\r\n",
        "trainPredictPlot[look_back:len(train_predict)+look_back, :] = train_predict\r\n",
        "# shift test predictions for plotting\r\n",
        "testPredictPlot = np.empty_like(df1)\r\n",
        "testPredictPlot[:, :] = np.nan\r\n",
        "testPredictPlot[len(train_predict)+(look_back*2)+1:len(df1)-1, :] = test_predict\r\n",
        "# plot baseline and predictions\r\n",
        "plt.plot(scaler.inverse_transform(df1))\r\n",
        "plt.plot(trainPredictPlot)\r\n",
        "plt.plot(testPredictPlot)\r\n",
        "plt.show()"
      ],
      "execution_count": null,
      "outputs": [
        {
          "output_type": "display_data",
          "data": {
            "image/png": "[encoded data removed]",
            "text/plain": [
              "<Figure size 432x288 with 1 Axes>"
            ]
          },
          "metadata": {
            "tags": [],
            "needs_background": "light"
          }
        }
      ]
    },
    {
      "cell_type": "code",
      "metadata": {
        "colab": {
          "base_uri": "https://localhost:8080/"
        },
        "id": "uaUCUMG9XoKV",
        "outputId": "47bf71f4-3509-4f44-f669-eb3d48f6c4ca"
      },
      "source": [
        "#predict the next 30 days as len of test data is 1833 to calucate the output we will take last 100 days data \r\n",
        "x_input=test_data[950:].reshape(1,-1)\r\n",
        "x_input.shape\r\n"
      ],
      "execution_count": null,
      "outputs": [
        {
          "output_type": "execute_result",
          "data": {
            "text/plain": [
              "(1, 100)"
            ]
          },
          "metadata": {
            "tags": []
          },
          "execution_count": 24
        }
      ]
    },
    {
      "cell_type": "code",
      "metadata": {
        "id": "SxWeu9nvX10l"
      },
      "source": [
        "#convert the data into list\r\n",
        "temp_input=list(x_input)\r\n",
        "temp_input=temp_input[0].tolist()"
      ],
      "execution_count": null,
      "outputs": []
    },
    {
      "cell_type": "code",
      "metadata": {
        "colab": {
          "base_uri": "https://localhost:8080/"
        },
        "id": "U4wPnqZ5Y1-l",
        "outputId": "90f971d1-8ba5-4d5c-e668-b3143ba7c878"
      },
      "source": [
        "# demonstrate prediction for next day\r\n",
        "from numpy import array\r\n",
        "\r\n",
        "lst_output=[]\r\n",
        "n_steps=100\r\n",
        "i=0\r\n",
        "while(i<1):\r\n",
        "    \r\n",
        "    if(len(temp_input)>100):\r\n",
        "        #print(temp_input)\r\n",
        "        #leave last day\r\n",
        "        x_input=np.array(temp_input[1:])\r\n",
        "        print(\"{} day input {}\".format(i,x_input))\r\n",
        "        x_input=x_input.reshape(1,-1)\r\n",
        "        x_input = x_input.reshape((1, n_steps, 1))\r\n",
        "        #print(x_input)\r\n",
        "        yhat = model.predict(x_input, verbose=0)\r\n",
        "        print(\"{} day output {}\".format(i,yhat))\r\n",
        "        temp_input.extend(yhat[0].tolist())\r\n",
        "        temp_input=temp_input[1:]\r\n",
        "        #print(temp_input)\r\n",
        "        lst_output.extend(yhat.tolist())\r\n",
        "        i=i+1\r\n",
        "    else:\r\n",
        "      #this will run \r\n",
        "      # first reshape the data \r\n",
        "        x_input = x_input.reshape((1, n_steps,1))\r\n",
        "        #predict the valve and save in yhat\r\n",
        "        yhat = model.predict(x_input, verbose=0)\r\n",
        "        print(yhat[0])\r\n",
        "        # add to this list as the lenth is increased by 1 loop will go in if clause\r\n",
        "        temp_input.extend(yhat[0].tolist())\r\n",
        "        print(len(temp_input))\r\n",
        "        lst_output.extend(yhat.tolist())\r\n",
        "        i=i+1\r\n",
        "    \r\n",
        "\r\n",
        "print(lst_output)"
      ],
      "execution_count": null,
      "outputs": [
        {
          "output_type": "stream",
          "text": [
            "[0.9944339]\n",
            "101\n",
            "[[0.9944338798522949]]\n"
          ],
          "name": "stdout"
        }
      ]
    },
    {
      "cell_type": "code",
      "metadata": {
        "colab": {
          "base_uri": "https://localhost:8080/"
        },
        "id": "gtjw3lUlkimp",
        "outputId": "00c91658-1963-4065-cfc2-40eb2ec23344"
      },
      "source": [
        "#Prediction for 04 February 2021\n",
        "a = scaler.inverse_transform(lst_output)\n",
        "a"
      ],
      "execution_count": null,
      "outputs": [
        {
          "output_type": "execute_result",
          "data": {
            "text/plain": [
              "array([[14712.38194115]])"
            ]
          },
          "metadata": {
            "tags": []
          },
          "execution_count": 27
        }
      ]
    },
    {
      "cell_type": "code",
      "metadata": {
        "colab": {
          "base_uri": "https://localhost:8080/"
        },
        "id": "6_PZK56f7eT8",
        "outputId": "de5e8c7f-c139-4c64-f696-7a62ea3f154c"
      },
      "source": [
        "## %Difference in predicted value\r\n",
        "prediction = a[[0]]\r\n",
        "print('Predicted value for next day=',prediction)\r\n",
        "b = df['Close'].iloc[-1]\r\n",
        "print('last close price=',b)\r\n",
        "percentage = ((prediction-b)/b)*100\r\n",
        "print('percentage change should be =', percentage.round(3),'%' )"
      ],
      "execution_count": null,
      "outputs": [
        {
          "output_type": "stream",
          "text": [
            "Predicted value for next day= [[14712.38194115]]\n",
            "last close price= 14789.95\n",
            "percentage change should be = [[-0.524]] %\n"
          ],
          "name": "stdout"
        }
      ]
    },
    {
      "cell_type": "code",
      "metadata": {
        "id": "iTbiAbvTY_2Y"
      },
      "source": [
        ""
      ],
      "execution_count": null,
      "outputs": []
    }
  ]
}